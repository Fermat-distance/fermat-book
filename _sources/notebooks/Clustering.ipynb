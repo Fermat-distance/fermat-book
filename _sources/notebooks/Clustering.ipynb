{
 "cells": [
  {
   "cell_type": "markdown",
   "id": "c198b66d-3e0b-43ab-9ab3-67a1bd3d85e2",
   "metadata": {},
   "source": [
    "# Clustering\n",
    "\n",
    "In this section, we are going to explore how the Fermat distance can be use for clustering. Many clustering methods (including k-Means, spectral clustering, hierarchical clutering) can be adapeted to been used with new distances. \n",
    "\n",
    "For this example, we are going to consider the algorithm k-medoids for clustering using the Fermat distance for different parameters $\\alpha$ applied on the Swiss roll dataset. "
   ]
  },
  {
   "cell_type": "code",
   "execution_count": 1,
   "id": "6b23484a-f9ee-40f6-9677-1c117399c3aa",
   "metadata": {},
   "outputs": [],
   "source": [
    "import numpy as np\n",
    "from scipy.spatial import  distance_matrix\n",
    "\n",
    "import matplotlib.pyplot as plt\n",
    "from fermat import Fermat"
   ]
  },
  {
   "cell_type": "markdown",
   "id": "193197da-c873-4db1-9508-93ed676e8490",
   "metadata": {},
   "source": [
    "We first create the Swiss Roll dataset (see previous section for a visualization of the dataset). "
   ]
  },
  {
   "cell_type": "code",
   "execution_count": 28,
   "id": "5337737a-0210-4f8d-9c00-05746d206b79",
   "metadata": {},
   "outputs": [],
   "source": [
    "oscilations = 15\n",
    "a = 3\n",
    "n = 400\n",
    "\n",
    "mean1 = [0.3, 0.3]\n",
    "mean2 = [0.3, 0.7]\n",
    "mean3 = [0.7, 0.3]\n",
    "mean4 = [0.7, 0.7]\n",
    "cov = [[0.01, 0], [0, 0.01]]\n",
    "\n",
    "x1 = np.random.multivariate_normal(mean1, cov, n)\n",
    "x2 = np.random.multivariate_normal(mean2, cov, n)\n",
    "x3 = np.random.multivariate_normal(mean3, cov, n)\n",
    "x4 = np.random.multivariate_normal(mean4, cov, n)\n",
    "xx = np.concatenate((x1, x2, x3, x4), axis=0)\n",
    "\n",
    "labels = [0] * n + [1] * n + [2] * n + [3] * n\n",
    "\n",
    "X = np.zeros((xx.shape[0], 3))\n",
    "\n",
    "for i in range(X.shape[0]):\n",
    "    x, y = xx[i, 0], xx[i, 1]\n",
    "    X[i, 0] = x * np.cos(oscilations * x)\n",
    "    X[i, 1] = a * y\n",
    "    X[i, 2] = x * np.sin(oscilations * x)\n",
    "    \n",
    "distances = distance_matrix(X, X)"
   ]
  },
  {
   "cell_type": "markdown",
   "id": "025be1dd-f6b6-4dc6-a046-f50fe14b2f62",
   "metadata": {},
   "source": [
    "## K-Medoids"
   ]
  },
  {
   "cell_type": "code",
   "execution_count": 29,
   "id": "3161d309-3927-4c75-a0a6-7b3ce3fa2e8a",
   "metadata": {},
   "outputs": [],
   "source": [
    "from fermat.clusterize import FermatKMeans"
   ]
  },
  {
   "cell_type": "code",
   "execution_count": 47,
   "id": "a7ec0196-a12b-4ecc-936b-f9c1fc7eea50",
   "metadata": {},
   "outputs": [
    {
     "data": {
      "text/plain": [
       "(array([ 160,  415,  829, 1231]), array([437, 408, 377, 378]))"
      ]
     },
     "execution_count": 47,
     "metadata": {},
     "output_type": "execute_result"
    }
   ],
   "source": [
    "Fermat_clustering = FermatKMeans(cluster_qty=4, alpha=2, path_method='FW')\n",
    "Fermat_clustering.fit(distances)\n",
    "np.unique(Fermat_clustering.labels_, return_counts=True)"
   ]
  },
  {
   "cell_type": "code",
   "execution_count": null,
   "id": "92a221a7-9b45-4a11-a074-b8c9425fc569",
   "metadata": {},
   "outputs": [],
   "source": [
    "from mpl_toolkits.mplot3d import Axes3D\n",
    "\n",
    "fig, ax = plt.subplots(figsize=(12, 8), nrows=1, ncols=2)\n",
    "\n",
    "plt.title('Swiss Roll Normals dataset \\n N=%s'%(X.shape[0]))\n",
    "\n",
    "#ax[0] = fig.add_subplot(111, projection='3d')\n",
    "ax[0].view_init(10, 80)\n",
    "ax[0].set_axis_off()\n",
    "ax[0].scatter(xs=X[:,0], ys=X[:,1], zs=X[:,2], c=Fermat_clustering.labels_, s=10)\n",
    "\n",
    "#ax[1] = fig.add_subplot(111, projection='3d')\n",
    "ax[1].view_init(10, 80)\n",
    "ax[1].set_axis_off()\n",
    "ax[1].scatter(xs=X[:,0], ys=X[:,1], zs=X[:,2], c=Fermat_clustering.labels_, s=10)\n",
    "\n",
    "plt.show()"
   ]
  },
  {
   "cell_type": "markdown",
   "id": "e6021819-6910-459b-8131-5946820f2b63",
   "metadata": {},
   "source": [
    "## Run for multiple values of $\\alpha$\n",
    "\n",
    "We are going to evaluate the performace of the Fermat distance for clustering when using different values of $\\alpha$ to estimate the distance. In order to evaluate the performance of the clustering method, we consider different metrics: "
   ]
  },
  {
   "cell_type": "code",
   "execution_count": 52,
   "id": "69cd102b-cac5-4394-aa00-5ea57de8c4df",
   "metadata": {},
   "outputs": [
    {
     "data": {
      "text/plain": [
       "array([1.5, 2. , 2.5, 3. , 3.5, 4. , 4.5, 5. , 5.5, 6. , 6.5, 7. , 7.5,\n",
       "       8. ])"
      ]
     },
     "execution_count": 52,
     "metadata": {},
     "output_type": "execute_result"
    }
   ],
   "source": [
    "all_alpha = np.linspace(1.5, 8, 14, endpoint=True)\n",
    "all_alpha"
   ]
  },
  {
   "cell_type": "code",
   "execution_count": null,
   "id": "07b0fb91-b9b2-4a86-ae27-b0ada9070a6f",
   "metadata": {},
   "outputs": [],
   "source": [
    "for alpha in all_alpha:\n",
    "    Fermat_clustering = FermatKMeans(cluster_qty=4, alpha=alpha, path_method='FW')\n",
    "    Fermat_clustering.fit(distances)"
   ]
  },
  {
   "cell_type": "code",
   "execution_count": null,
   "id": "44c02808-39d6-4701-97f3-8951d5d58d0c",
   "metadata": {},
   "outputs": [],
   "source": []
  }
 ],
 "metadata": {
  "kernelspec": {
   "display_name": "Python 3 (ipykernel)",
   "language": "python",
   "name": "python3"
  },
  "language_info": {
   "codemirror_mode": {
    "name": "ipython",
    "version": 3
   },
   "file_extension": ".py",
   "mimetype": "text/x-python",
   "name": "python",
   "nbconvert_exporter": "python",
   "pygments_lexer": "ipython3",
   "version": "3.9.12"
  }
 },
 "nbformat": 4,
 "nbformat_minor": 5
}
